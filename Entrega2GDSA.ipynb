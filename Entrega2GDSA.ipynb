{
  "nbformat": 4,
  "nbformat_minor": 0,
  "metadata": {
    "colab": {
      "name": "Entrega2GDSA.ipynb",
      "provenance": [],
      "include_colab_link": true
    },
    "kernelspec": {
      "name": "python3",
      "display_name": "Python 3"
    },
    "accelerator": "GPU"
  },
  "cells": [
    {
      "cell_type": "markdown",
      "metadata": {
        "id": "view-in-github",
        "colab_type": "text"
      },
      "source": [
        "<a href=\"https://colab.research.google.com/github/EMKA-ctrl/2019-Equip3/blob/master/Entrega2GDSA.ipynb\" target=\"_parent\"><img src=\"https://colab.research.google.com/assets/colab-badge.svg\" alt=\"Open In Colab\"/></a>"
      ]
    },
    {
      "cell_type": "code",
      "metadata": {
        "id": "yd83Xhf2yGoq",
        "colab_type": "code",
        "colab": {}
      },
      "source": [
        "import tensorflow as tf\n",
        "print(tf.__version__)"
      ],
      "execution_count": 0,
      "outputs": []
    },
    {
      "cell_type": "code",
      "metadata": {
        "id": "1dHqVjJ-8Xc6",
        "colab_type": "code",
        "outputId": "bd208a96-f136-4598-a7c8-82f8a4bd09d5",
        "colab": {
          "base_uri": "https://localhost:8080/",
          "height": 272
        }
      },
      "source": [
        "!pip uninstall tensorflow"
      ],
      "execution_count": 0,
      "outputs": [
        {
          "output_type": "stream",
          "text": [
            "Uninstalling tensorflow-1.15.0:\n",
            "  Would remove:\n",
            "    /usr/local/bin/estimator_ckpt_converter\n",
            "    /usr/local/bin/freeze_graph\n",
            "    /usr/local/bin/saved_model_cli\n",
            "    /usr/local/bin/tensorboard\n",
            "    /usr/local/bin/tf_upgrade_v2\n",
            "    /usr/local/bin/tflite_convert\n",
            "    /usr/local/bin/toco\n",
            "    /usr/local/bin/toco_from_protos\n",
            "    /usr/local/lib/python3.6/dist-packages/tensorflow-1.15.0.dist-info/*\n",
            "    /usr/local/lib/python3.6/dist-packages/tensorflow/*\n",
            "    /usr/local/lib/python3.6/dist-packages/tensorflow_core/*\n",
            "Proceed (y/n)? y\n",
            "  Successfully uninstalled tensorflow-1.15.0\n"
          ],
          "name": "stdout"
        }
      ]
    },
    {
      "cell_type": "code",
      "metadata": {
        "id": "5BfUO_Be3RV8",
        "colab_type": "code",
        "outputId": "581fa1d8-7b9e-4d49-c5a0-7b77baf3aada",
        "colab": {
          "base_uri": "https://localhost:8080/",
          "height": 496
        }
      },
      "source": [
        "!pip install tensorflow-gpu==2.0.0-alpha0 #Desinstalem tensorflow i instal·lem la nova versió a la\n",
        "#gpu, així no tenim problemes amb la llibreria\n"
      ],
      "execution_count": 0,
      "outputs": [
        {
          "output_type": "stream",
          "text": [
            "Collecting tensorflow-gpu==2.0.0-alpha0\n",
            "\u001b[?25l  Downloading https://files.pythonhosted.org/packages/1a/66/32cffad095253219d53f6b6c2a436637bbe45ac4e7be0244557210dc3918/tensorflow_gpu-2.0.0a0-cp36-cp36m-manylinux1_x86_64.whl (332.1MB)\n",
            "\u001b[K     |████████████████████████████████| 332.1MB 46kB/s \n",
            "\u001b[?25hRequirement already satisfied: protobuf>=3.6.1 in /usr/local/lib/python3.6/dist-packages (from tensorflow-gpu==2.0.0-alpha0) (3.10.0)\n",
            "Requirement already satisfied: keras-applications>=1.0.6 in /usr/local/lib/python3.6/dist-packages (from tensorflow-gpu==2.0.0-alpha0) (1.0.8)\n",
            "Requirement already satisfied: keras-preprocessing>=1.0.5 in /usr/local/lib/python3.6/dist-packages (from tensorflow-gpu==2.0.0-alpha0) (1.1.0)\n",
            "Requirement already satisfied: numpy<2.0,>=1.14.5 in /usr/local/lib/python3.6/dist-packages (from tensorflow-gpu==2.0.0-alpha0) (1.17.4)\n",
            "Collecting tf-estimator-nightly<1.14.0.dev2019030116,>=1.14.0.dev2019030115\n",
            "\u001b[?25l  Downloading https://files.pythonhosted.org/packages/13/82/f16063b4eed210dc2ab057930ac1da4fbe1e91b7b051a6c8370b401e6ae7/tf_estimator_nightly-1.14.0.dev2019030115-py2.py3-none-any.whl (411kB)\n",
            "\u001b[K     |████████████████████████████████| 419kB 30.3MB/s \n",
            "\u001b[?25hRequirement already satisfied: termcolor>=1.1.0 in /usr/local/lib/python3.6/dist-packages (from tensorflow-gpu==2.0.0-alpha0) (1.1.0)\n",
            "Requirement already satisfied: grpcio>=1.8.6 in /usr/local/lib/python3.6/dist-packages (from tensorflow-gpu==2.0.0-alpha0) (1.15.0)\n",
            "Requirement already satisfied: absl-py>=0.7.0 in /usr/local/lib/python3.6/dist-packages (from tensorflow-gpu==2.0.0-alpha0) (0.8.1)\n",
            "Requirement already satisfied: wheel>=0.26 in /usr/local/lib/python3.6/dist-packages (from tensorflow-gpu==2.0.0-alpha0) (0.33.6)\n",
            "Collecting tb-nightly<1.14.0a20190302,>=1.14.0a20190301\n",
            "\u001b[?25l  Downloading https://files.pythonhosted.org/packages/a9/51/aa1d756644bf4624c03844115e4ac4058eff77acd786b26315f051a4b195/tb_nightly-1.14.0a20190301-py3-none-any.whl (3.0MB)\n",
            "\u001b[K     |████████████████████████████████| 3.0MB 31.2MB/s \n",
            "\u001b[?25hRequirement already satisfied: astor>=0.6.0 in /usr/local/lib/python3.6/dist-packages (from tensorflow-gpu==2.0.0-alpha0) (0.8.0)\n",
            "Requirement already satisfied: google-pasta>=0.1.2 in /usr/local/lib/python3.6/dist-packages (from tensorflow-gpu==2.0.0-alpha0) (0.1.8)\n",
            "Requirement already satisfied: gast>=0.2.0 in /usr/local/lib/python3.6/dist-packages (from tensorflow-gpu==2.0.0-alpha0) (0.2.2)\n",
            "Requirement already satisfied: six>=1.10.0 in /usr/local/lib/python3.6/dist-packages (from tensorflow-gpu==2.0.0-alpha0) (1.12.0)\n",
            "Requirement already satisfied: setuptools in /usr/local/lib/python3.6/dist-packages (from protobuf>=3.6.1->tensorflow-gpu==2.0.0-alpha0) (41.6.0)\n",
            "Requirement already satisfied: h5py in /usr/local/lib/python3.6/dist-packages (from keras-applications>=1.0.6->tensorflow-gpu==2.0.0-alpha0) (2.8.0)\n",
            "Requirement already satisfied: werkzeug>=0.11.15 in /usr/local/lib/python3.6/dist-packages (from tb-nightly<1.14.0a20190302,>=1.14.0a20190301->tensorflow-gpu==2.0.0-alpha0) (0.16.0)\n",
            "Requirement already satisfied: markdown>=2.6.8 in /usr/local/lib/python3.6/dist-packages (from tb-nightly<1.14.0a20190302,>=1.14.0a20190301->tensorflow-gpu==2.0.0-alpha0) (3.1.1)\n",
            "Installing collected packages: tf-estimator-nightly, tb-nightly, tensorflow-gpu\n",
            "Successfully installed tb-nightly-1.14.0a20190301 tensorflow-gpu-2.0.0a0 tf-estimator-nightly-1.14.0.dev2019030115\n"
          ],
          "name": "stdout"
        }
      ]
    },
    {
      "cell_type": "code",
      "metadata": {
        "id": "8mpdbBI_X1Zb",
        "colab_type": "code",
        "colab": {}
      },
      "source": [
        "import numpy as np\n",
        "import cv2\n",
        "import matplotlib.pyplot as plt\n",
        "from PIL import Image, ImageOps\n",
        "from os.path import isfile, join\n",
        "from os import scandir, getcwd\n",
        "import zipfile                         \n",
        "from os import listdir\n",
        "import sklearn.preprocessing as skl"
      ],
      "execution_count": 0,
      "outputs": []
    },
    {
      "cell_type": "code",
      "metadata": {
        "id": "XlLwl_D4B6ip",
        "colab_type": "code",
        "outputId": "e5289c92-93d5-4ac6-ca82-85272827eeff",
        "colab": {
          "base_uri": "https://localhost:8080/",
          "height": 204
        }
      },
      "source": [
        "!wget https://github.com/EMKA-ctrl/2019-Equip3/blob/master/TRAINYTEST.zip\n",
        "with zipfile.ZipFile(\"./TRAINYTEST.zip\", 'r') as zip_ref:\n",
        "    zip_ref.extractall(\"./\")"
      ],
      "execution_count": 24,
      "outputs": [
        {
          "output_type": "stream",
          "text": [
            "--2019-11-28 22:58:32--  https://github.com/EMKA-ctrl/2019-Equip3/blob/master/TRAINYTEST.zip\n",
            "Resolving github.com (github.com)... 140.82.118.3\n",
            "Connecting to github.com (github.com)|140.82.118.3|:443... connected.\n",
            "HTTP request sent, awaiting response... 200 OK\n",
            "Length: unspecified [text/html]\n",
            "Saving to: ‘TRAINYTEST.zip.1’\n",
            "\n",
            "\rTRAINYTEST.zip.1        [<=>                 ]       0  --.-KB/s               \rTRAINYTEST.zip.1        [ <=>                ]  63.42K  --.-KB/s    in 0.009s  \n",
            "\n",
            "2019-11-28 22:58:32 (6.84 MB/s) - ‘TRAINYTEST.zip.1’ saved [64946]\n",
            "\n"
          ],
          "name": "stdout"
        }
      ]
    },
    {
      "cell_type": "markdown",
      "metadata": {
        "id": "survEKjXJsdP",
        "colab_type": "text"
      },
      "source": [
        "# New Section"
      ]
    },
    {
      "cell_type": "code",
      "metadata": {
        "id": "dbVqnFVBEwPi",
        "colab_type": "code",
        "colab": {}
      },
      "source": [
        "listaTEST = [f for f in listdir(\"./TEST\") if isfile(join(\"./TEST\", f))]            # Fem una llista d'arxius i després llegim les imatges a una matriu 3D.\n",
        "test = np.array([np.array(Image.open(\"./TEST/\" + fname)) for fname in listaTEST])                        \n",
        "\n",
        "listaTRAIN = [f for f in listdir(\"./TRAIN\") if isfile(join(\"./TRAIN\", f))]         # Repetim el procés per TRAIN.\n",
        "train = np.array([np.array(Image.open(\"./TRAIN/\" + fname)) for fname in listaTRAIN])                      "
      ],
      "execution_count": 0,
      "outputs": []
    },
    {
      "cell_type": "code",
      "metadata": {
        "id": "aB1osYu4F3Ph",
        "colab_type": "code",
        "outputId": "3e7b029c-de8b-4131-e236-997540513310",
        "colab": {
          "base_uri": "https://localhost:8080/",
          "height": 165
        }
      },
      "source": [
        "#Aquestes variables són el nombre d'imatges que contenen train i test respectivament, pero no s'utilitzen perquè les imatges no son en escala de grisos realment i tenen 3 components,\n",
        "# per tant per que funcioni hem hagut de substituir-ho pel nombre de fotos*3.\n",
        "Ntrain=len(train[:,1,1]) \n",
        "Ntest=len(test[:,1,1])    \n",
        "\n",
        "# Creem una versió de les matrius que tingui dues dimensions en una línia (28x28=784) y seguidament les normalitzem\n",
        "mtrain = np.reshape(train, (84,784))\n",
        "mtest = np.reshape(test, (12,784))\n",
        "\n",
        "mtrain = skl.normalize(mtrain)     \n",
        "mtest = skl.normalize(mtest)\n",
        "\n",
        "# Calculem la trasposada per les similituds\n",
        "mtrain = mtrain.transpose()\n",
        "\n",
        "sims = np.matmul(mtest, mtrain)\n",
        "\n",
        "ranks = np.argsort(sims, axis=1)[:,::-1]\n",
        "\n",
        "\n",
        "# Visualització de les imatges\n",
        "x_train_images = np.reshape(train, (84, 28, 28))\n",
        "x_test_images = np.reshape(test, (12, 28, 28))\n",
        "\n",
        "h,w = (28, 28)\n",
        "new_image= Image.new('RGB', (h*10,w*4))\n",
        "\n",
        "# Visualize ranks of the 10 queries\n",
        "offset = 0 # it will show results from query #'offset' to #offset+10    900\n",
        "for q in range(4):                                                      # 10\n",
        "  ranks_q = ranks[q*(offset+1),:]\n",
        "  for i in range(10):                                                   #15\n",
        "      new_image.paste( Image.fromarray(x_train_images[ranks_q[i]]), (h*(1+i),w*q ))\n",
        "\n",
        "  # visualize query\n",
        "  ima_q = Image.fromarray(x_test_images[q*(offset+1),...])\n",
        "  ima_q = ImageOps.expand(ima_q, border=3, fill='green')\n",
        "\n",
        "  new_image.paste(ima_q, (0,w*q))\n",
        "\n",
        "plt.figure()\n",
        "plt.imshow(new_image)\n",
        "plt.axis('off')\n",
        "plt.show()"
      ],
      "execution_count": 28,
      "outputs": [
        {
          "output_type": "display_data",
          "data": {
            "image/png": "[encoded data removed]",
            "text/plain": [
              "<Figure size 432x288 with 1 Axes>"
            ]
          },
          "metadata": {
            "tags": []
          }
        }
      ]
    }
  ]
}