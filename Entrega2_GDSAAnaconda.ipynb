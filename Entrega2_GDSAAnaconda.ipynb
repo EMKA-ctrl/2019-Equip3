{
 "cells": [
  {
   "cell_type": "code",
   "execution_count": null,
   "metadata": {
    "collapsed": true
   },
   "outputs": [],
   "source": [
    "!pip install tensorflow-gpu==2.0.0-alpha0\n",
    "\n",
    "import numpy as np\n",
    "import matplotlib.pyplot as plt\n",
    "import sklearn.preprocessing as skl\n",
    "from PIL import Image, ImageOps\n",
    "from os.path import isfile, join\n",
    "from os import scandir, getcwd\n",
    "import zipfile                         \n",
    "from os import listdir \n",
    "\n",
    "with ZipFile(\"C:/Users/Predator ACER/Desktop/Uni 2019 - 2020/GDSA/Proyecto/TRAINYTEST.zip\", 'r') as zf:\n",
    "    zf.extractall('C:/Users/Predator ACER/Desktop/GDSA_fotos')\n",
    "\n",
    "listaTEST = [f for f in listdir(\"C:/Users/Predator ACER/Desktop/GDSA_fotos/TEST\") if isfile(join(\"C:/Users/Predator ACER/Desktop/GDSA_fotos/TEST\", f))]            # Fem una llista d'arxius i després llegim les imatges a una matriu 3D.\n",
    "test = np.array([np.array(Image.open(\"C:/Users/Predator ACER/Desktop/GDSA_fotos/TEST/\" + fname)) for fname in listaTEST])                        \n",
    "\n",
    "listaTRAIN = [f for f in listdir(\"C:/Users/Predator ACER/Desktop/GDSA_fotos/TRAIN\") if isfile(join(\"C:/Users/Predator ACER/Desktop/GDSA_fotos/TRAIN\", f))]         # Repetim el procés per TRAIN.\n",
    "train = np.array([np.array(Image.open(\"C:/Users/Predator ACER/Desktop/GDSA_fotos/TRAIN/\" + fname)) for fname in listaTRAIN])\n",
    "\n",
    "Ntrain=len(train[:,1,1])  # Núm d'imatges de train\n",
    "Ntest=len(test[:,1,1])    # Núm d'imatges de test\n",
    "\n",
    "# Creem una versió de les matrius que tingui dues dimensions en una línia\n",
    "mtrain = np.reshape(train, (84,784))\n",
    "mtest = np.reshape(test, (12,784))\n",
    "\n",
    "# Normalitzem les noves matrius\n",
    "mtrain = skl.normalize(mtrain)     \n",
    "mtest = skl.normalize(mtest)\n",
    "\n",
    "# Transposem una matriu\n",
    "mtrain = mtrain.transpose()\n",
    "\n",
    "similarities = np.matmul(mtest, mtrain)\n",
    "\n",
    "ranks = np.argsort(similarities, axis=1)[:,::-1]\n",
    "\n",
    "\n",
    "# Visualització de les imatges\n",
    "x_train_images = np.reshape(train, (84, 28, 28))\n",
    "x_test_images = np.reshape(test, (12, 28, 28))\n",
    "\n",
    "h,w = (28, 28)\n",
    "new_image= Image.new('RGB', (h*10,w*4))\n",
    "\n",
    "# Visualize ranks of the 10 queries\n",
    "offset = 0 # it will show results from query #'offset' to #offset+10    900\n",
    "for q in range(4):                                                      # 10\n",
    "  ranks_q = ranks[q*(offset+1),:]\n",
    "  for i in range(10):                                                   #15\n",
    "      new_image.paste( Image.fromarray(x_train_images[ranks_q[i]]), (h*(1+i),w*q ))\n",
    "\n",
    "  # visualize query\n",
    "  ima_q = Image.fromarray(x_test_images[q*(offset+1),...])\n",
    "  ima_q = ImageOps.expand(ima_q, border=3, fill='green')\n",
    "\n",
    "  new_image.paste(ima_q, (0,w*q))\n",
    "\n",
    "plt.figure()\n",
    "plt.imshow(new_image)\n",
    "plt.axis('off')\n",
    "plt.show()\n"
   ]
  }
 ],
 "metadata": {
  "kernelspec": {
   "display_name": "Python 3",
   "language": "python",
   "name": "python3"
  },
  "language_info": {
   "codemirror_mode": {
    "name": "ipython",
    "version": 2
   },
   "file_extension": ".py",
   "mimetype": "text/x-python",
   "name": "python",
   "nbconvert_exporter": "python",
   "pygments_lexer": "ipython2",
   "version": "2.7.6"
  },
  "pycharm": {
   "stem_cell": {
    "cell_type": "raw",
    "source": [],
    "metadata": {
     "collapsed": false
    }
   }
  }
 },
 "nbformat": 4,
 "nbformat_minor": 0
}
