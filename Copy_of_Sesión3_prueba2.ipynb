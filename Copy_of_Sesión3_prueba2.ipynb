{
  "nbformat": 4,
  "nbformat_minor": 0,
  "metadata": {
    "colab": {
      "name": "Copy of Sesión3_prueba2.ipynb",
      "provenance": []
    },
    "kernelspec": {
      "name": "python3",
      "display_name": "Python 3"
    }
  },
  "cells": [
    {
      "cell_type": "markdown",
      "metadata": {
        "id": "ZaBt6Rh8NFB2",
        "colab_type": "text"
      },
      "source": [
        "**EXTRACCIÓN DE DESCRIPTORES**"
      ]
    },
    {
      "cell_type": "markdown",
      "metadata": {
        "id": "C8gKWCXSLVwW",
        "colab_type": "text"
      },
      "source": [
        "Cargamos librerías"
      ]
    },
    {
      "cell_type": "code",
      "metadata": {
        "id": "JtPzTTV5LBsG",
        "colab_type": "code",
        "colab": {}
      },
      "source": [
        "# License: BSD\n",
        "# Author: Sasank Chilamkurthy\n",
        "\n",
        "from __future__ import print_function, division\n",
        "\n",
        "import torch\n",
        "import torch.nn as nn\n",
        "import torch.optim as optim\n",
        "from torch.optim import lr_scheduler\n",
        "import numpy as np\n",
        "import torchvision\n",
        "from torchvision import datasets, models, transforms\n",
        "import matplotlib.pyplot as plt\n",
        "import time\n",
        "import os\n",
        "import copy\n",
        "import zipfile\n",
        "import numpy as np\n",
        "import cv2\n",
        "import matplotlib.pyplot as plt\n",
        "from PIL import Image, ImageOps\n",
        "from os.path import isfile, join\n",
        "from os import scandir, getcwd                        \n",
        "from os import listdir\n",
        "import sklearn.preprocessing as skl\n",
        "\n",
        "plt.ion()   #interactive mode"
      ],
      "execution_count": 0,
      "outputs": []
    },
    {
      "cell_type": "code",
      "metadata": {
        "id": "2G6YFg3oLhWk",
        "colab_type": "code",
        "colab": {}
      },
      "source": [
        "!wget https://github.com/EMKA-ctrl/2019-Equip3/blob/master/TRAINYTEST2.zip\n",
        "!unzip -qq TRAINYTEST2.zip -d TRAINYTEST2/"
      ],
      "execution_count": 0,
      "outputs": []
    },
    {
      "cell_type": "code",
      "metadata": {
        "id": "LbctaGe7LxqG",
        "colab_type": "code",
        "outputId": "d39c2df6-2b78-4e0c-e1ce-fb85e5cec15e",
        "colab": {
          "base_uri": "https://localhost:8080/",
          "height": 34
        }
      },
      "source": [
        "dir1='TRAINYTEST2/TRAINYTEST2/TRAIN/catedrl'\n",
        "def  count_files(dir1): \n",
        "  return len([1 for x in list (os.scandir(dir1)) if x.is_file()])\n",
        "\n",
        "print(count_files(dir1))"
      ],
      "execution_count": 4,
      "outputs": [
        {
          "output_type": "stream",
          "text": [
            "58\n"
          ],
          "name": "stdout"
        }
      ]
    },
    {
      "cell_type": "code",
      "metadata": {
        "id": "yOeIxMzDL3X0",
        "colab_type": "code",
        "outputId": "4ee7bc72-d1de-406c-d1eb-f62fe6ce7723",
        "colab": {
          "base_uri": "https://localhost:8080/",
          "height": 34
        }
      },
      "source": [
        "# Data augmentation and normalization for TRAINing\n",
        "# Just normalization for TESTidation\n",
        "data_transforms = {\n",
        "    'TRAIN': transforms.Compose([\n",
        "        transforms.RandomResizedCrop(224),\n",
        "        transforms.RandomHorizontalFlip(),\n",
        "        transforms.ToTensor(),\n",
        "        transforms.Normalize([0.485, 0.456, 0.406], [0.229, 0.224, 0.225])\n",
        "    ]),\n",
        "    'TEST': transforms.Compose([\n",
        "        transforms.Resize(256),\n",
        "        transforms.CenterCrop(224),\n",
        "        transforms.ToTensor(),\n",
        "        transforms.Normalize([0.485, 0.456, 0.406], [0.229, 0.224, 0.225])\n",
        "    ]),\n",
        "}\n",
        "\n",
        "data_dir = 'TRAINYTEST2/TRAINYTEST2'\n",
        "image_datasets = {x: datasets.ImageFolder(os.path.join(data_dir, x),\n",
        "                                          data_transforms[x])\n",
        "                  for x in ['TRAIN', 'TEST']}\n",
        "dataloaders = {x: torch.utils.data.DataLoader(image_datasets[x], batch_size=4,\n",
        "                                             shuffle=True, num_workers=4)\n",
        "              for x in ['TRAIN', 'TEST']}\n",
        "dataset_sizes = {x: len(image_datasets[x]) for x in ['TRAIN', 'TEST']}\n",
        "class_names = image_datasets['TRAIN'].classes\n",
        "\n",
        "device = torch.device(\"cuda:0\" if torch.cuda.is_available() else \"cpu\")\n",
        "print(device)"
      ],
      "execution_count": 5,
      "outputs": [
        {
          "output_type": "stream",
          "text": [
            "cpu\n"
          ],
          "name": "stdout"
        }
      ]
    },
    {
      "cell_type": "markdown",
      "metadata": {
        "id": "HWY7cpYNL8Ju",
        "colab_type": "text"
      },
      "source": [
        "Definimos la función de imshow para mirar algunas imágenes "
      ]
    },
    {
      "cell_type": "code",
      "metadata": {
        "id": "xbstK0oXMCZd",
        "colab_type": "code",
        "outputId": "97be349e-3ff5-4367-8f8d-34fb16310d13",
        "colab": {
          "base_uri": "https://localhost:8080/",
          "height": 148
        }
      },
      "source": [
        "def imshow(inp, title=None):\n",
        "    \"\"\"Imshow for Tensor.\"\"\"\n",
        "    inp = inp.numpy().transpose((1, 2, 0))\n",
        "    mean = np.array([0.485, 0.456, 0.406])\n",
        "    std = np.array([0.229, 0.224, 0.225])\n",
        "    inp = std * inp + mean\n",
        "    inp = np.clip(inp, 0, 1)\n",
        "    plt.imshow(inp)\n",
        "    if title is not None:\n",
        "        plt.title(title)\n",
        "    plt.pause(0.001)  # pause a bit so that plots are updated\n",
        "\n",
        "\n",
        "# Get a batch of training data\n",
        "inputs, classes = next(iter(dataloaders['TRAIN']))\n",
        "\n",
        "# Make a grid from batch\n",
        "out = torchvision.utils.make_grid(inputs)\n",
        "\n",
        "imshow(out, title=[class_names[x] for x in classes])"
      ],
      "execution_count": 6,
      "outputs": [
        {
          "output_type": "display_data",
          "data": {
            "image/png": "[encoded data removed]",
            "text/plain": [
              "<Figure size 432x288 with 1 Axes>"
            ]
          },
          "metadata": {
            "tags": []
          }
        }
      ]
    },
    {
      "cell_type": "code",
      "metadata": {
        "id": "b3u9lf8bMGM_",
        "colab_type": "code",
        "colab": {}
      },
      "source": [
        "def train_model(model, criterion, optimizer, scheduler, num_epochs=25):\n",
        "  \n",
        "    since = time.time()\n",
        "    \n",
        "    best_model_wts = copy.deepcopy(model.state_dict())\n",
        "    \n",
        "    best_acc = 0.0\n",
        "\n",
        "    for epoch in range(num_epochs):\n",
        "        print('Epoch {}/{}'.format(epoch, num_epochs - 1))\n",
        "        print('-' * 10)\n",
        "\n",
        "        # Each epoch has a training and validation phase\n",
        "        for phase in ['TRAIN', 'TEST']:\n",
        "            if phase == 'TRAIN':\n",
        "                model.train()  # Set model to training mode\n",
        "            else:\n",
        "                model.eval()   # Set model to evaluate mode\n",
        "\n",
        "            running_loss = 0.0\n",
        "            running_corrects = 0\n",
        "\n",
        "            # Iterate over data.\n",
        "            for inputs, labels in dataloaders[phase]:\n",
        "                inputs = inputs.to(device)\n",
        "                labels = labels.to(device)\n",
        "\n",
        "                # zero the parameter gradients\n",
        "                optimizer.zero_grad()\n",
        "\n",
        "                # forward\n",
        "                # track history if only in train\n",
        "                with torch.set_grad_enabled(phase == 'TRAIN'):\n",
        "                    outputs = model(inputs)\n",
        "                    _, preds = torch.max(outputs, 1)\n",
        "                    loss = criterion(outputs, labels)\n",
        "\n",
        "                    # backward + optimize only if in training phase\n",
        "                    if phase == 'TRAIN':\n",
        "                        loss.backward()\n",
        "                        optimizer.step()\n",
        "\n",
        "                # statistics\n",
        "                running_loss += loss.item() * inputs.size(0)\n",
        "                running_corrects += torch.sum(preds == labels.data)\n",
        "            if phase == 'TRAIN':\n",
        "                scheduler.step()\n",
        "\n",
        "            epoch_loss = running_loss / dataset_sizes[phase]\n",
        "            epoch_acc = running_corrects.double() / dataset_sizes[phase]\n",
        "\n",
        "            print('{} Loss: {:.4f} Acc: {:.4f}'.format(\n",
        "                phase, epoch_loss, epoch_acc))\n",
        "\n",
        "            # deep copy the model\n",
        "            if phase == 'TEST' and epoch_acc > best_acc:\n",
        "                best_acc = epoch_acc\n",
        "                best_model_wts = copy.deepcopy(model.state_dict())\n",
        "\n",
        "        print()\n",
        "\n",
        "    time_elapsed = time.time() - since\n",
        "    print('Training complete in {:.0f}m {:.0f}s'.format(\n",
        "        time_elapsed // 60, time_elapsed % 60))\n",
        "    print('Best val Acc: {:4f}'.format(best_acc))\n",
        "\n",
        "    # load best model weights\n",
        "    model.load_state_dict(best_model_wts)\n",
        "    return model"
      ],
      "execution_count": 0,
      "outputs": []
    },
    {
      "cell_type": "code",
      "metadata": {
        "id": "3AVhWoGwMLuI",
        "colab_type": "code",
        "colab": {}
      },
      "source": [
        "def visualize_model(model, num_images=6):\n",
        "    was_training = model.training\n",
        "    model.eval()\n",
        "    images_so_far = 0\n",
        "    fig = plt.figure()\n",
        "\n",
        "    with torch.no_grad():\n",
        "        for i, (inputs, labels) in enumerate(dataloaders['TEST']):\n",
        "            inputs = inputs.to(device)\n",
        "            labels = labels.to(device)\n",
        "\n",
        "            outputs = model(inputs)\n",
        "            _, preds = torch.max(outputs, 1)\n",
        "\n",
        "            for j in range(inputs.size()[0]):\n",
        "                images_so_far += 1\n",
        "                ax = plt.subplot(num_images//2, 2, images_so_far)\n",
        "                ax.axis('off')\n",
        "                ax.set_title('predicted: {}'.format(class_names[preds[j]]))\n",
        "                imshow(inputs.cpu().data[j])\n",
        "\n",
        "                if images_so_far == num_images:\n",
        "                    model.train(mode=was_training)\n",
        "                    return\n",
        "        model.train(mode=was_training)"
      ],
      "execution_count": 0,
      "outputs": []
    },
    {
      "cell_type": "code",
      "metadata": {
        "id": "8s5acLzhMNeo",
        "colab_type": "code",
        "outputId": "74412617-166c-46c1-c8f8-4f7f4a968caa",
        "colab": {
          "base_uri": "https://localhost:8080/",
          "height": 51
        }
      },
      "source": [
        "model_ft = models.resnet18(pretrained=True)\n",
        "num_ftrs = model_ft.fc.in_features\n",
        "# Here the size of each output sample is set to 2.\n",
        "# Alternatively, it can be generalized to nn.Linear(num_ftrs, len(class_names)).\n",
        "model_ft.fc = nn.Linear(num_ftrs, 4)\n",
        "\n",
        "model_ft = model_ft.to(device)\n",
        "\n",
        "criterion = nn.CrossEntropyLoss()\n",
        "\n",
        "# Observe that all parameters are being optimized\n",
        "optimizer_ft = optim.SGD(model_ft.parameters(), lr=0.001, momentum=0.9)\n",
        "\n",
        "# Decay LR by a factor of 0.1 every 7 epochs\n",
        "exp_lr_scheduler = lr_scheduler.StepLR(optimizer_ft, step_size=7, gamma=0.1)"
      ],
      "execution_count": 9,
      "outputs": [
        {
          "output_type": "stream",
          "text": [
            "Downloading: \"https://download.pytorch.org/models/resnet18-5c106cde.pth\" to /root/.cache/torch/checkpoints/resnet18-5c106cde.pth\n",
            "100%|██████████| 44.7M/44.7M [00:01<00:00, 46.3MB/s]\n"
          ],
          "name": "stderr"
        }
      ]
    },
    {
      "cell_type": "code",
      "metadata": {
        "colab_type": "code",
        "outputId": "c7e454b7-b29c-441b-ad59-2cfef7a91d97",
        "id": "Nn-DAOQlCwN_",
        "colab": {
          "base_uri": "https://localhost:8080/",
          "height": 1000
        }
      },
      "source": [
        "model_ft = train_model(model_ft, criterion, optimizer_ft, exp_lr_scheduler,\n",
        "                       num_epochs=25)"
      ],
      "execution_count": 10,
      "outputs": [
        {
          "output_type": "stream",
          "text": [
            "Epoch 0/24\n",
            "----------\n",
            "TRAIN Loss: 1.5977 Acc: 0.3407\n",
            "TEST Loss: 2.0355 Acc: 0.0000\n",
            "\n",
            "Epoch 1/24\n",
            "----------\n",
            "TRAIN Loss: 1.3110 Acc: 0.4513\n",
            "TEST Loss: 1.3085 Acc: 0.5000\n",
            "\n",
            "Epoch 2/24\n",
            "----------\n",
            "TRAIN Loss: 1.2643 Acc: 0.4381\n",
            "TEST Loss: 1.5243 Acc: 0.2500\n",
            "\n",
            "Epoch 3/24\n",
            "----------\n",
            "TRAIN Loss: 1.1668 Acc: 0.5310\n",
            "TEST Loss: 1.2193 Acc: 0.5000\n",
            "\n",
            "Epoch 4/24\n",
            "----------\n",
            "TRAIN Loss: 1.1418 Acc: 0.5487\n",
            "TEST Loss: 1.7577 Acc: 0.5000\n",
            "\n",
            "Epoch 5/24\n",
            "----------\n",
            "TRAIN Loss: 1.2252 Acc: 0.5088\n",
            "TEST Loss: 1.0328 Acc: 0.5000\n",
            "\n",
            "Epoch 6/24\n",
            "----------\n",
            "TRAIN Loss: 1.1312 Acc: 0.5398\n",
            "TEST Loss: 0.7929 Acc: 0.7500\n",
            "\n",
            "Epoch 7/24\n",
            "----------\n",
            "TRAIN Loss: 0.9367 Acc: 0.6504\n",
            "TEST Loss: 0.3479 Acc: 1.0000\n",
            "\n",
            "Epoch 8/24\n",
            "----------\n",
            "TRAIN Loss: 0.9549 Acc: 0.6106\n",
            "TEST Loss: 0.2661 Acc: 1.0000\n",
            "\n",
            "Epoch 9/24\n",
            "----------\n",
            "TRAIN Loss: 0.9287 Acc: 0.6549\n",
            "TEST Loss: 0.2793 Acc: 1.0000\n",
            "\n",
            "Epoch 10/24\n",
            "----------\n",
            "TRAIN Loss: 0.7931 Acc: 0.6991\n",
            "TEST Loss: 0.2008 Acc: 1.0000\n",
            "\n",
            "Epoch 11/24\n",
            "----------\n",
            "TRAIN Loss: 0.8475 Acc: 0.6593\n",
            "TEST Loss: 0.2013 Acc: 1.0000\n",
            "\n",
            "Epoch 12/24\n",
            "----------\n",
            "TRAIN Loss: 0.8255 Acc: 0.6770\n",
            "TEST Loss: 0.1374 Acc: 1.0000\n",
            "\n",
            "Epoch 13/24\n",
            "----------\n",
            "TRAIN Loss: 0.8128 Acc: 0.7080\n",
            "TEST Loss: 0.1804 Acc: 1.0000\n",
            "\n",
            "Epoch 14/24\n",
            "----------\n",
            "TRAIN Loss: 0.8166 Acc: 0.6372\n",
            "TEST Loss: 0.1911 Acc: 1.0000\n",
            "\n",
            "Epoch 15/24\n",
            "----------\n",
            "TRAIN Loss: 0.8518 Acc: 0.6814\n",
            "TEST Loss: 0.2267 Acc: 1.0000\n",
            "\n",
            "Epoch 16/24\n",
            "----------\n",
            "TRAIN Loss: 0.8771 Acc: 0.6593\n",
            "TEST Loss: 0.2022 Acc: 1.0000\n",
            "\n",
            "Epoch 17/24\n",
            "----------\n",
            "TRAIN Loss: 0.7811 Acc: 0.7035\n",
            "TEST Loss: 0.1890 Acc: 1.0000\n",
            "\n",
            "Epoch 18/24\n",
            "----------\n",
            "TRAIN Loss: 0.7834 Acc: 0.6903\n",
            "TEST Loss: 0.1520 Acc: 1.0000\n",
            "\n",
            "Epoch 19/24\n",
            "----------\n",
            "TRAIN Loss: 0.8377 Acc: 0.6903\n",
            "TEST Loss: 0.1675 Acc: 1.0000\n",
            "\n",
            "Epoch 20/24\n",
            "----------\n",
            "TRAIN Loss: 0.7656 Acc: 0.7257\n",
            "TEST Loss: 0.1766 Acc: 1.0000\n",
            "\n",
            "Epoch 21/24\n",
            "----------\n",
            "TRAIN Loss: 0.7296 Acc: 0.7168\n",
            "TEST Loss: 0.2379 Acc: 1.0000\n",
            "\n",
            "Epoch 22/24\n",
            "----------\n",
            "TRAIN Loss: 0.7145 Acc: 0.7301\n",
            "TEST Loss: 0.1775 Acc: 1.0000\n",
            "\n",
            "Epoch 23/24\n",
            "----------\n",
            "TRAIN Loss: 0.7910 Acc: 0.6903\n",
            "TEST Loss: 0.1860 Acc: 1.0000\n",
            "\n",
            "Epoch 24/24\n",
            "----------\n",
            "TRAIN Loss: 0.7428 Acc: 0.6858\n",
            "TEST Loss: 0.1976 Acc: 1.0000\n",
            "\n",
            "Training complete in 20m 31s\n",
            "Best val Acc: 1.000000\n"
          ],
          "name": "stdout"
        }
      ]
    },
    {
      "cell_type": "code",
      "metadata": {
        "id": "Bv6lF3tzMZlQ",
        "colab_type": "code",
        "outputId": "cf04532a-347d-4161-82cb-5482982688d1",
        "colab": {
          "base_uri": "https://localhost:8080/",
          "height": 393
        }
      },
      "source": [
        "visualize_model(model_ft)"
      ],
      "execution_count": 11,
      "outputs": [
        {
          "output_type": "display_data",
          "data": {
            "image/png": "[encoded data removed]",
            "text/plain": [
              "<Figure size 432x288 with 1 Axes>"
            ]
          },
          "metadata": {
            "tags": []
          }
        },
        {
          "output_type": "display_data",
          "data": {
            "image/png": "[encoded data removed]",
            "text/plain": [
              "<Figure size 432x288 with 1 Axes>"
            ]
          },
          "metadata": {
            "tags": []
          }
        },
        {
          "output_type": "display_data",
          "data": {
            "image/png": "[encoded data removed]",
            "text/plain": [
              "<Figure size 432x288 with 1 Axes>"
            ]
          },
          "metadata": {
            "tags": []
          }
        },
        {
          "output_type": "display_data",
          "data": {
            "image/png": "[encoded data removed]",
            "text/plain": [
              "<Figure size 432x288 with 1 Axes>"
            ]
          },
          "metadata": {
            "tags": []
          }
        }
      ]
    },
    {
      "cell_type": "code",
      "metadata": {
        "id": "cxcepptlMvYs",
        "colab_type": "code",
        "colab": {}
      },
      "source": [
        "model_conv = torchvision.models.resnet18(pretrained=True)\n",
        "for param in model_conv.parameters():\n",
        "    param.requires_grad = False\n",
        "\n",
        "# Parameters of newly constructed modules have requires_grad=True by default\n",
        "num_ftrs = model_conv.fc.in_features\n",
        "model_conv.fc = nn.Linear(num_ftrs, 4)\n",
        "\n",
        "model_conv = model_conv.to(device)\n",
        "\n",
        "criterion = nn.CrossEntropyLoss()\n",
        "\n",
        "# Observe that only parameters of final layer are being optimized as\n",
        "# opposed to before.\n",
        "optimizer_conv = optim.SGD(model_conv.fc.parameters(), lr=0.001, momentum=0.9)\n",
        "\n",
        "# Decay LR by a factor of 0.1 every 7 epochs\n",
        "exp_lr_scheduler = lr_scheduler.StepLR(optimizer_conv, step_size=7, gamma=0.1)"
      ],
      "execution_count": 0,
      "outputs": []
    },
    {
      "cell_type": "code",
      "metadata": {
        "id": "M4h5cA3OMxVD",
        "colab_type": "code",
        "outputId": "9a4f39ba-aa4a-495d-905b-5f9f255a8a56",
        "colab": {
          "base_uri": "https://localhost:8080/",
          "height": 1000
        }
      },
      "source": [
        "model_conv = train_model(model_conv, criterion, optimizer_conv,\n",
        "                         exp_lr_scheduler, num_epochs=25)"
      ],
      "execution_count": 13,
      "outputs": [
        {
          "output_type": "stream",
          "text": [
            "Epoch 0/24\n",
            "----------\n",
            "TRAIN Loss: 1.4515 Acc: 0.2920\n",
            "TEST Loss: 1.9712 Acc: 0.2500\n",
            "\n",
            "Epoch 1/24\n",
            "----------\n",
            "TRAIN Loss: 1.3785 Acc: 0.3451\n",
            "TEST Loss: 1.2842 Acc: 0.2500\n",
            "\n",
            "Epoch 2/24\n",
            "----------\n",
            "TRAIN Loss: 1.3225 Acc: 0.4115\n",
            "TEST Loss: 1.4159 Acc: 0.5000\n",
            "\n",
            "Epoch 3/24\n",
            "----------\n",
            "TRAIN Loss: 1.4772 Acc: 0.3894\n",
            "TEST Loss: 1.1819 Acc: 0.2500\n",
            "\n",
            "Epoch 4/24\n",
            "----------\n",
            "TRAIN Loss: 1.3095 Acc: 0.4027\n",
            "TEST Loss: 1.2227 Acc: 0.5000\n",
            "\n",
            "Epoch 5/24\n",
            "----------\n",
            "TRAIN Loss: 1.2143 Acc: 0.4956\n",
            "TEST Loss: 1.1106 Acc: 0.5000\n",
            "\n",
            "Epoch 6/24\n",
            "----------\n",
            "TRAIN Loss: 1.1949 Acc: 0.4912\n",
            "TEST Loss: 1.0782 Acc: 0.7500\n",
            "\n",
            "Epoch 7/24\n",
            "----------\n",
            "TRAIN Loss: 1.1022 Acc: 0.5265\n",
            "TEST Loss: 1.0651 Acc: 0.5000\n",
            "\n",
            "Epoch 8/24\n",
            "----------\n",
            "TRAIN Loss: 1.0665 Acc: 0.5487\n",
            "TEST Loss: 1.1491 Acc: 0.5000\n",
            "\n",
            "Epoch 9/24\n",
            "----------\n",
            "TRAIN Loss: 1.0605 Acc: 0.5619\n",
            "TEST Loss: 0.9043 Acc: 0.7500\n",
            "\n",
            "Epoch 10/24\n",
            "----------\n",
            "TRAIN Loss: 1.1143 Acc: 0.5000\n",
            "TEST Loss: 0.9656 Acc: 0.5000\n",
            "\n",
            "Epoch 11/24\n",
            "----------\n",
            "TRAIN Loss: 1.0573 Acc: 0.5708\n",
            "TEST Loss: 1.0841 Acc: 0.7500\n",
            "\n",
            "Epoch 12/24\n",
            "----------\n",
            "TRAIN Loss: 1.0887 Acc: 0.5310\n",
            "TEST Loss: 1.1020 Acc: 0.5000\n",
            "\n",
            "Epoch 13/24\n",
            "----------\n",
            "TRAIN Loss: 1.0515 Acc: 0.5487\n",
            "TEST Loss: 0.9543 Acc: 0.5000\n",
            "\n",
            "Epoch 14/24\n",
            "----------\n",
            "TRAIN Loss: 1.0639 Acc: 0.5354\n",
            "TEST Loss: 1.0056 Acc: 0.5000\n",
            "\n",
            "Epoch 15/24\n",
            "----------\n",
            "TRAIN Loss: 1.0687 Acc: 0.5265\n",
            "TEST Loss: 1.0664 Acc: 0.5000\n",
            "\n",
            "Epoch 16/24\n",
            "----------\n",
            "TRAIN Loss: 1.0536 Acc: 0.5398\n",
            "TEST Loss: 1.0908 Acc: 0.5000\n",
            "\n",
            "Epoch 17/24\n",
            "----------\n",
            "TRAIN Loss: 1.0778 Acc: 0.5221\n",
            "TEST Loss: 0.9840 Acc: 0.7500\n",
            "\n",
            "Epoch 18/24\n",
            "----------\n",
            "TRAIN Loss: 0.9794 Acc: 0.6106\n",
            "TEST Loss: 1.0236 Acc: 0.7500\n",
            "\n",
            "Epoch 19/24\n",
            "----------\n",
            "TRAIN Loss: 1.0293 Acc: 0.5841\n",
            "TEST Loss: 1.1225 Acc: 0.2500\n",
            "\n",
            "Epoch 20/24\n",
            "----------\n",
            "TRAIN Loss: 1.0981 Acc: 0.5265\n",
            "TEST Loss: 0.9952 Acc: 0.7500\n",
            "\n",
            "Epoch 21/24\n",
            "----------\n",
            "TRAIN Loss: 0.9657 Acc: 0.5841\n",
            "TEST Loss: 0.9609 Acc: 0.7500\n",
            "\n",
            "Epoch 22/24\n",
            "----------\n",
            "TRAIN Loss: 1.0920 Acc: 0.5354\n",
            "TEST Loss: 1.1021 Acc: 0.5000\n",
            "\n",
            "Epoch 23/24\n",
            "----------\n",
            "TRAIN Loss: 1.0015 Acc: 0.5708\n",
            "TEST Loss: 1.0636 Acc: 0.5000\n",
            "\n",
            "Epoch 24/24\n",
            "----------\n",
            "TRAIN Loss: 1.0039 Acc: 0.5796\n",
            "TEST Loss: 0.9465 Acc: 0.5000\n",
            "\n",
            "Training complete in 6m 53s\n",
            "Best val Acc: 0.750000\n"
          ],
          "name": "stdout"
        }
      ]
    },
    {
      "cell_type": "code",
      "metadata": {
        "id": "bsyht_7eMzR3",
        "colab_type": "code",
        "outputId": "dfb4d130-5950-4367-bf37-b566952732bc",
        "colab": {
          "base_uri": "https://localhost:8080/",
          "height": 393
        }
      },
      "source": [
        "visualize_model(model_conv)\n",
        "\n",
        "plt.ioff()\n",
        "plt.show()"
      ],
      "execution_count": 19,
      "outputs": [
        {
          "output_type": "display_data",
          "data": {
            "image/png": "[encoded data removed]",
            "text/plain": [
              "<Figure size 432x288 with 1 Axes>"
            ]
          },
          "metadata": {
            "tags": []
          }
        },
        {
          "output_type": "display_data",
          "data": {
            "image/png": "[encoded data removed]",
            "text/plain": [
              "<Figure size 432x288 with 1 Axes>"
            ]
          },
          "metadata": {
            "tags": []
          }
        },
        {
          "output_type": "display_data",
          "data": {
            "image/png": "[encoded data removed]",
            "text/plain": [
              "<Figure size 432x288 with 1 Axes>"
            ]
          },
          "metadata": {
            "tags": []
          }
        },
        {
          "output_type": "display_data",
          "data": {
            "image/png": "[encoded data removed]",
            "text/plain": [
              "<Figure size 432x288 with 1 Axes>"
            ]
          },
          "metadata": {
            "tags": []
          }
        }
      ]
    },
    {
      "cell_type": "markdown",
      "metadata": {
        "id": "hZtunpTONXtZ",
        "colab_type": "text"
      },
      "source": [
        "**BUSQUEDA DE DESCRIPTORES**"
      ]
    },
    {
      "cell_type": "code",
      "metadata": {
        "id": "zu_b3-WkN07u",
        "colab_type": "code",
        "colab": {}
      },
      "source": [
        "listaTEST = [f for f in listdir(\"TRAINYTEST2/TRAINYTEST2/TEST/desc\") if isfile(join(\"TRAINYTEST2/TRAINYTEST2/TEST/desc\", f))]            # Fem una llista d'arxius i després llegim les imatges a una matriu 3D.\n",
        "test = np.array([np.array(Image.open(\"TRAINYTEST2/TRAINYTEST2/TEST/desc/\" + fname)) for fname in listaTEST])                        \n",
        "\n",
        "listaTRAIN = [f for f in listdir(\"TRAINYTEST2/TRAINYTEST2/TRAIN/catedrl\") if isfile(join(\"TRAINYTEST2/TRAINYTEST2/TRAIN/catedrl\", f))]         # Repetim el procés per TRAIN.\n",
        "train = np.array([np.array(Image.open(\"TRAINYTEST2/TRAINYTEST2/TRAIN/catedrl/\" + fname)) for fname in listaTRAIN])"
      ],
      "execution_count": 0,
      "outputs": []
    },
    {
      "cell_type": "code",
      "metadata": {
        "id": "oAnbiPO1WFQb",
        "colab_type": "code",
        "outputId": "5c3f0ee9-ad1d-4704-e999-fd88aeabc383",
        "colab": {
          "base_uri": "https://localhost:8080/",
          "height": 51
        }
      },
      "source": [
        "\n",
        "print(train.shape)\n",
        "print(test.shape)\n",
        "\n",
        "Ntrain=len(train[:,1,1])\n",
        "Ntest=len(test[:,1,1])  \n",
        "\n",
        "mtrain = np.reshape(train, (58,784))\n",
        "mtest = np.reshape(test, (1,784))\n",
        "\n",
        "mtrain = skl.normalize(mtrain)     \n",
        "mtest = skl.normalize(mtest)\n",
        "\n",
        "mtrain = mtrain.transpose()\n",
        "\n",
        "sims = np.matmul(mtest, mtrain)\n",
        "\n",
        "ranks = np.argsort(sims, axis=1)[:,::-1]"
      ],
      "execution_count": 50,
      "outputs": [
        {
          "output_type": "stream",
          "text": [
            "(58, 28, 28)\n",
            "(1, 28, 28)\n"
          ],
          "name": "stdout"
        }
      ]
    },
    {
      "cell_type": "code",
      "metadata": {
        "id": "p4BCQhjsPVoD",
        "colab_type": "code",
        "outputId": "8d5e35e0-4302-4ba7-8fff-f6339284cabd",
        "colab": {
          "base_uri": "https://localhost:8080/",
          "height": 231
        }
      },
      "source": [
        "#itzen perquè les imatges no son en escala de grisos realment i tenen 3 components,\n",
        "# per tant per que funcioni hem hagut de substituir-ho pel nombre de fotos*3.\n",
        "Ntrain=len(train[:,1,1])\n",
        "Ntest=len(test[:,1,1])    \n",
        "\n",
        "# Creem una versió de les matrius que tingui dues dimensions en una línia (28x28=784) y seguidament les normalitzem\n",
        "mtrain = np.reshape(train, (58,784))\n",
        "mtest = np.reshape(test, (1,784))\n",
        "\n",
        "mtrain = skl.normalize(mtrain)     \n",
        "mtest = skl.normalize(mtest)\n",
        "\n",
        "# Calculem la trasposada per les similituds\n",
        "mtrain = mtrain.transpose()\n",
        "\n",
        "sims = np.matmul(mtest, mtrain)\n",
        "\n",
        "ranks = np.argsort(sims, axis=1)[:,::-1]\n",
        "\n",
        "\n",
        "# Visualització de les imatges\n",
        "x_train_images = np.reshape(train, (58, 28, 28))\n",
        "x_test_images = np.reshape(test, (1,28,28))\n",
        "\n",
        "h,w = (28, 28)\n",
        "new_image= Image.new('RGB', (h*10,w*4))\n",
        "\n",
        "# Visualize ranks of the 10 queries\n",
        "offset = 0 # it will show results from query #'offset' to #offset+10    900\n",
        "for q in range(4):                                                      # 10\n",
        "  ranks_q = ranks[q*(offset+1),:]\n",
        "  for i in range(10):                                                   #15\n",
        "      new_image.paste( Image.fromarray(x_train_images[ranks_q[i]]), (h*(1+i),w*q ))\n",
        "\n",
        "  # visualize query\n",
        "  ima_q = Image.fromarray(x_test_images[q*(offset+1),...])\n",
        "  ima_q = ImageOps.expand(ima_q, border=3, fill='green')\n",
        "\n",
        "  new_image.paste(ima_q, (0,w*q))\n",
        "\n",
        "plt.figure()\n",
        "plt.imshow(new_image)\n",
        "plt.axis('off')\n",
        "plt.show()"
      ],
      "execution_count": 51,
      "outputs": [
        {
          "output_type": "error",
          "ename": "IndexError",
          "evalue": "ignored",
          "traceback": [
            "\u001b[0;31m---------------------------------------------------------------------------\u001b[0m",
            "\u001b[0;31mIndexError\u001b[0m                                Traceback (most recent call last)",
            "\u001b[0;32m<ipython-input-51-5e97740af6c6>\u001b[0m in \u001b[0;36m<module>\u001b[0;34m()\u001b[0m\n\u001b[1;32m     27\u001b[0m \u001b[0moffset\u001b[0m \u001b[0;34m=\u001b[0m \u001b[0;36m0\u001b[0m \u001b[0;31m# it will show results from query #'offset' to #offset+10    900\u001b[0m\u001b[0;34m\u001b[0m\u001b[0;34m\u001b[0m\u001b[0m\n\u001b[1;32m     28\u001b[0m \u001b[0;32mfor\u001b[0m \u001b[0mq\u001b[0m \u001b[0;32min\u001b[0m \u001b[0mrange\u001b[0m\u001b[0;34m(\u001b[0m\u001b[0;36m4\u001b[0m\u001b[0;34m)\u001b[0m\u001b[0;34m:\u001b[0m                                                      \u001b[0;31m# 10\u001b[0m\u001b[0;34m\u001b[0m\u001b[0;34m\u001b[0m\u001b[0m\n\u001b[0;32m---> 29\u001b[0;31m   \u001b[0mranks_q\u001b[0m \u001b[0;34m=\u001b[0m \u001b[0mranks\u001b[0m\u001b[0;34m[\u001b[0m\u001b[0mq\u001b[0m\u001b[0;34m*\u001b[0m\u001b[0;34m(\u001b[0m\u001b[0moffset\u001b[0m\u001b[0;34m+\u001b[0m\u001b[0;36m1\u001b[0m\u001b[0;34m)\u001b[0m\u001b[0;34m,\u001b[0m\u001b[0;34m:\u001b[0m\u001b[0;34m]\u001b[0m\u001b[0;34m\u001b[0m\u001b[0;34m\u001b[0m\u001b[0m\n\u001b[0m\u001b[1;32m     30\u001b[0m   \u001b[0;32mfor\u001b[0m \u001b[0mi\u001b[0m \u001b[0;32min\u001b[0m \u001b[0mrange\u001b[0m\u001b[0;34m(\u001b[0m\u001b[0;36m10\u001b[0m\u001b[0;34m)\u001b[0m\u001b[0;34m:\u001b[0m                                                   \u001b[0;31m#15\u001b[0m\u001b[0;34m\u001b[0m\u001b[0;34m\u001b[0m\u001b[0m\n\u001b[1;32m     31\u001b[0m       \u001b[0mnew_image\u001b[0m\u001b[0;34m.\u001b[0m\u001b[0mpaste\u001b[0m\u001b[0;34m(\u001b[0m \u001b[0mImage\u001b[0m\u001b[0;34m.\u001b[0m\u001b[0mfromarray\u001b[0m\u001b[0;34m(\u001b[0m\u001b[0mx_train_images\u001b[0m\u001b[0;34m[\u001b[0m\u001b[0mranks_q\u001b[0m\u001b[0;34m[\u001b[0m\u001b[0mi\u001b[0m\u001b[0;34m]\u001b[0m\u001b[0;34m]\u001b[0m\u001b[0;34m)\u001b[0m\u001b[0;34m,\u001b[0m \u001b[0;34m(\u001b[0m\u001b[0mh\u001b[0m\u001b[0;34m*\u001b[0m\u001b[0;34m(\u001b[0m\u001b[0;36m1\u001b[0m\u001b[0;34m+\u001b[0m\u001b[0mi\u001b[0m\u001b[0;34m)\u001b[0m\u001b[0;34m,\u001b[0m\u001b[0mw\u001b[0m\u001b[0;34m*\u001b[0m\u001b[0mq\u001b[0m \u001b[0;34m)\u001b[0m\u001b[0;34m)\u001b[0m\u001b[0;34m\u001b[0m\u001b[0;34m\u001b[0m\u001b[0m\n",
            "\u001b[0;31mIndexError\u001b[0m: index 1 is out of bounds for axis 0 with size 1"
          ]
        }
      ]
    },
    {
      "cell_type": "markdown",
      "metadata": {
        "id": "IXb6A7NVNOMe",
        "colab_type": "text"
      },
      "source": [
        "**ADAPATACION DE LOS DESCRIPTORES**"
      ]
    }
  ]
}